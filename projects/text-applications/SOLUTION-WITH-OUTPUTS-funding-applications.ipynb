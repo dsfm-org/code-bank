{
 "cells": [
  {
   "cell_type": "markdown",
   "metadata": {},
   "source": [
    "# **DSFM Project**: Pre-Screen Funding Applications (SOLUTION)"
   ]
  },
  {
   "cell_type": "markdown",
   "metadata": {},
   "source": [
    "Creator: [Data Science for Managers - EPFL Program](https://www.dsfm.ch)  \n",
    "Source:  [https://github.com/dsfm-org/code-bank.git](https://github.com/dsfm-org/code-bank.git)  \n",
    "License: [MIT License](https://opensource.org/licenses/MIT). See open source [license](LICENSE) in the Code Bank repository. "
   ]
  },
  {
   "cell_type": "markdown",
   "metadata": {},
   "source": [
    "-------------"
   ]
  },
  {
   "cell_type": "markdown",
   "metadata": {},
   "source": [
    "## Overview"
   ]
  },
  {
   "cell_type": "markdown",
   "metadata": {},
   "source": [
    "Founded in 2000 by a high school teacher in the Bronx, DonorsChoose.org empowers public school teachers from across the country to request much-needed materials and experiences for their students. At any given time, there are thousands of classroom requests that can be brought to life with a gift of any amount.\n",
    "\n",
    "DonorsChoose.org receives hundreds of thousands of project proposals each year for classroom projects in need of funding. Right now, a large number of volunteers is needed to manually screen each submission before it's approved to be posted on the DonorsChoose.org website.\n",
    "\n",
    "In this project, we will predict the probability that a DonorsChoose.org project proposal submitted by a teacher will be approved, using the text of project descriptions as well as additional metadata about the project, teacher, and school. DonorsChoose.org can then use this information to identify projects most likely to need further review before approval. Hence, the organisation can save the time of volunteer reviewers so that they can focus on more promising projects.\n",
    "\n",
    "Your machine learning algorithm can help more teachers get funded more quickly, and with less cost to DonorsChoose.org, allowing them to channel even more funding directly to classrooms across the country."
   ]
  },
  {
   "cell_type": "markdown",
   "metadata": {},
   "source": [
    "<img src=\"https://cached.imagescaler.hbpl.co.uk/resize/scaleWidth/580/cached.offlinehbpl.hbpl.co.uk/news/NST/C8B9CC1D-03B0-9B80-4CFE78B5B539240F.jpg\" width=\"500\" height=\"500\" align=\"center\"/>\n",
    "\n",
    "Image source: https://cached.imagescaler.hbpl.co.uk/resize/scaleWidth/580/cached.offlinehbpl.hbpl.co.uk/news/NST/C8B9CC1D-03B0-9B80-4CFE78B5B539240F.jpg"
   ]
  },
  {
   "cell_type": "markdown",
   "metadata": {},
   "source": [
    "As you will see, this dataset includes many different kinds of features with structured and unstructured data. You need to predict whether an application needs further study. To assess the quality of your predictions, consider the area under the curve (AUC) performance metric.\n",
    "\n",
    "The dataset consists of application materials (see *application_data.csv*) and resources requested (see *resource_data.csv*).\n",
    "\n",
    "The application materials data (see *application_data.csv*) contains the following features.\n",
    "\n",
    "| Feature name  | Description  |\n",
    "|----------------|--------------|\n",
    "| id  | Unique id of the project application    |\n",
    "| teacher_id    | id of the teacher submitting the application  |\n",
    "| teacher_prefix    | title of the teacher's name (Ms., Mr., etc.)    |\n",
    "| school_state    | US state of the teacher's school    |\n",
    "| project_submitted_datetime    | application submission timestamp    |\n",
    "| project_grade_category    | school grade levels (PreK-2, 3-5, 6-8, and 9-12)   |\n",
    "| project_subject_categories   | category of the project (e.g., \"Music & The Arts\")    |\n",
    "| project_subject_subcategories    | sub-category of the project (e.g., \"Visual Arts\")    |\n",
    "| project_title    | title of the project    |\n",
    "| project_essay_1    | first essay*   |\n",
    "| project_essay_2    | second essay*    |\n",
    "| project_essay_3    | third essay*   |\n",
    "| project_essay_4    | fourth essay*  |\n",
    "| project_resource_summary    | summary of the resources needed for the project    |\n",
    "| teacher_number_of_previously_posted_projects   | number of previously posted applications by the submitting teacher    |\n",
    "| project_is_approved    | whether DonorsChoose proposal was accepted (0=\"rejected\", 1=\"accepted\"); train.csv only    |\n",
    "\n",
    "\n",
    "\\*Note: Prior to May 17, 2016, the prompts for the essays were as follows:\n",
    "\n",
    "  * project_essay_1: \"Introduce us to your classroom\"  \n",
    "\n",
    "  * project_essay_2: \"Tell us more about your students\"  \n",
    "\n",
    "  * project_essay_3: \"Describe how your students will use the materials you're requesting\"  \n",
    "\n",
    "  * project_essay_4: \"Close by sharing why your project will make a difference\"  \n",
    "\n",
    "Starting on May 17, 2016, the number of essays was reduced from 4 to 2, and the prompts for the first 2 essays were changed to the following:\n",
    "\n",
    "  * project_essay_1: \"Describe your students: What makes your students special? Specific details about their background, your neighborhood, and your school are all helpful.\"  \n",
    "\n",
    "  * project_essay_2: \"About your project: How will these materials make a difference in your students' learning and improve their school lives?\"  \n",
    "\n",
    "For all projects with project_submitted_datetime of 2016-05-17 and later, the values of project_essay_3 and project_essay_4 will be missing (i.e. NaN).\n"
   ]
  },
  {
   "cell_type": "markdown",
   "metadata": {},
   "source": [
    "Proposals also include resources requested. Each project may include multiple requested resources (see *resource_data.csv*). Each row in *resource_data.csv* corresponds to a resource, so multiple rows may tie to the same project by id.\n",
    "\n",
    "The resource data contains the following features.\n",
    "\n",
    "| Feature name  | Description  |\n",
    "|----------------|--------------|\n",
    "| id  | unique id of the project application; joins with test.csv. and train.csv on id   |\n",
    "| description    |  description of the resource requested     |\n",
    "| quantity   | quantity of resource requested      |\n",
    "| price    | price of resource requested      |\n"
   ]
  },
  {
   "cell_type": "markdown",
   "metadata": {},
   "source": [
    "Dataset source: [Kaggle DonorsChoose.org Application Screening challenge](https://www.kaggle.com/c/donorschoose-application-screening/data)"
   ]
  },
  {
   "cell_type": "markdown",
   "metadata": {},
   "source": [
    "The problem is divided into several parts. For each part, you will have time to work on the question yourself. Feel free to go back to the Demo, use Google/Stackoverflow and work with your neighbour. Together, we will review and discuss the solution to each part."
   ]
  },
  {
   "cell_type": "markdown",
   "metadata": {},
   "source": [
    "-------------"
   ]
  },
  {
   "cell_type": "markdown",
   "metadata": {},
   "source": [
    "## **Part 0**: Setup"
   ]
  },
  {
   "cell_type": "code",
   "execution_count": 1,
   "metadata": {},
   "outputs": [
    {
     "name": "stderr",
     "output_type": "stream",
     "text": [
      "[nltk_data] Downloading package stopwords to\n",
      "[nltk_data]     /Users/mwhofer/nltk_data...\n",
      "[nltk_data]   Package stopwords is already up-to-date!\n"
     ]
    }
   ],
   "source": [
    "# Import all packages \n",
    "import re\n",
    "import nltk\n",
    "nltk.download('stopwords')\n",
    "import enchant\n",
    "\n",
    "# Use short-hand for standard packages\n",
    "import pandas            as pd\n",
    "import numpy             as np\n",
    "import matplotlib.pyplot as plt\n",
    "\n",
    "# Import individual functions\n",
    "from sklearn.feature_extraction.text import CountVectorizer, TfidfVectorizer\n",
    "from sklearn.decomposition           import PCA\n",
    "from sklearn.model_selection         import StratifiedKFold, GridSearchCV, cross_val_score\n",
    "from sklearn.pipeline                import Pipeline\n",
    "from scipy.sparse                    import hstack\n",
    "from bs4                             import BeautifulSoup\n",
    "from nltk.corpus                     import stopwords \n",
    "from nltk.stem                       import SnowballStemmer\n",
    "from xgboost                         import XGBClassifier\n",
    "from collections                     import Counter\n",
    "\n",
    "# Special code to ignore un-important warnings \n",
    "import warnings\n",
    "warnings.filterwarnings('ignore')\n",
    "\n",
    "# Ensure that output of plotting commands is displayed inline\n",
    "%matplotlib inline\n",
    "\n",
    "# Set the maximum number of rows displayed \n",
    "pd.options.display.max_rows = 1000"
   ]
  },
  {
   "cell_type": "code",
   "execution_count": 2,
   "metadata": {},
   "outputs": [],
   "source": [
    "# Define all constants\n",
    "\n",
    "SEED    = 41  # base to generate a random number\n",
    "SCORE   = 'roc_auc'\n",
    "FIGSIZE = (16, 10)"
   ]
  },
  {
   "cell_type": "markdown",
   "metadata": {},
   "source": [
    "## **Part 1**: Data Preprocessing and EDA\n",
    "\n",
    "First, we have to download the data. Next, we would like to understand the main characteristics of the dataset. We might need to transform and clean some features before we can specify a statistical model."
   ]
  },
  {
   "cell_type": "markdown",
   "metadata": {},
   "source": [
    "**Q 1:** Unlike other projects, this project includes a training set too big for GitHub. Through the terminal lab of Jupyter lab, download the data using the *wget* command, unzip it using the *zip* command and check that it's in the root directory of the project. \n",
    "\n",
    "Locations : \n",
    "\n",
    "    Applications dataset: https://storage.googleapis.com/dsfm-datasets/text-applications/application_data.csv.zip\n",
    "    Resources dataset: https://storage.googleapis.com/dsfm-datasets/text-applications/resource_data.csv.zip"
   ]
  },
  {
   "cell_type": "markdown",
   "metadata": {},
   "source": [
    "Hint: Use *wget* and *unzip* commands. Use *!* followed by a bash command in a cell to run a bash command."
   ]
  },
  {
   "cell_type": "code",
   "execution_count": 3,
   "metadata": {},
   "outputs": [
    {
     "name": "stdout",
     "output_type": "stream",
     "text": [
      "--2020-09-16 14:11:52--  https://storage.googleapis.com/dsfm/application/application_data.csv.zip\n",
      "Resolving storage.googleapis.com... 216.58.215.240, 172.217.168.16, 172.217.168.80, ...\n",
      "Connecting to storage.googleapis.com|216.58.215.240|:443... connected.\n",
      "HTTP request sent, awaiting response... 304 Not Modified\n",
      "File 'application_data.csv.zip' not modified on server. Omitting download.\n",
      "\n",
      "--2020-09-16 14:11:52--  https://storage.googleapis.com/dsfm/application/resource_data.csv.zip\n",
      "Resolving storage.googleapis.com... 216.58.215.240, 172.217.168.16, 172.217.168.80, ...\n",
      "Connecting to storage.googleapis.com|216.58.215.240|:443... connected.\n",
      "HTTP request sent, awaiting response... 304 Not Modified\n",
      "File 'resource_data.csv.zip' not modified on server. Omitting download.\n",
      "\n",
      "Archive:  application_data.csv.zip\n",
      "  inflating: application_data.csv    \n",
      "Archive:  resource_data.csv.zip\n",
      "  inflating: resource_data.csv       \n"
     ]
    }
   ],
   "source": [
    "!wget -N 'https://storage.googleapis.com/dsfm-datasets/text-applications/application_data.csv.zip'\n",
    "!wget -N 'https://storage.googleapis.com/dsfm-datasets/text-applications/resource_data.csv.zip'\n",
    "!unzip -o application_data.csv.zip\n",
    "!unzip -o resource_data.csv.zip"
   ]
  },
  {
   "cell_type": "markdown",
   "metadata": {},
   "source": [
    "**Q 2:** Load the two datasets and investigate their features. What could be a unifying strategy to create the same \"project essay\" columns? Do the essays share common topics? Implement your strategy. We will deal with missing values afterwards."
   ]
  },
  {
   "cell_type": "raw",
   "metadata": {},
   "source": [
    "Consider the description of essays 1 to 4.\n",
    "One could unify them by merging essays 1 and 2 as 'envirenment essays' as well as \n",
    "merging essays 3 with 4 as 'project essyas'. These two types of essays correspond respectively \n",
    "to the project_essay_1 and project_essay_2 columns of projects, submitted on or after 2016-05-17."
   ]
  },
  {
   "cell_type": "code",
   "execution_count": 4,
   "metadata": {},
   "outputs": [
    {
     "name": "stdout",
     "output_type": "stream",
     "text": [
      "Application dataset\n",
      "(182080, 16)\n"
     ]
    },
    {
     "data": {
      "text/html": [
       "<div>\n",
       "<style scoped>\n",
       "    .dataframe tbody tr th:only-of-type {\n",
       "        vertical-align: middle;\n",
       "    }\n",
       "\n",
       "    .dataframe tbody tr th {\n",
       "        vertical-align: top;\n",
       "    }\n",
       "\n",
       "    .dataframe thead th {\n",
       "        text-align: right;\n",
       "    }\n",
       "</style>\n",
       "<table border=\"1\" class=\"dataframe\">\n",
       "  <thead>\n",
       "    <tr style=\"text-align: right;\">\n",
       "      <th></th>\n",
       "      <th>id</th>\n",
       "      <th>teacher_id</th>\n",
       "      <th>teacher_prefix</th>\n",
       "      <th>school_state</th>\n",
       "      <th>project_submitted_datetime</th>\n",
       "      <th>project_grade_category</th>\n",
       "      <th>project_subject_categories</th>\n",
       "      <th>project_subject_subcategories</th>\n",
       "      <th>project_title</th>\n",
       "      <th>project_essay_1</th>\n",
       "      <th>project_essay_2</th>\n",
       "      <th>project_essay_3</th>\n",
       "      <th>project_essay_4</th>\n",
       "      <th>project_resource_summary</th>\n",
       "      <th>teacher_number_of_previously_posted_projects</th>\n",
       "      <th>project_is_approved</th>\n",
       "    </tr>\n",
       "  </thead>\n",
       "  <tbody>\n",
       "    <tr>\n",
       "      <th>0</th>\n",
       "      <td>p036502</td>\n",
       "      <td>484aaf11257089a66cfedc9461c6bd0a</td>\n",
       "      <td>Ms.</td>\n",
       "      <td>NV</td>\n",
       "      <td>2016-11-18 14:45:59</td>\n",
       "      <td>Grades PreK-2</td>\n",
       "      <td>Literacy &amp; Language</td>\n",
       "      <td>Literacy</td>\n",
       "      <td>Super Sight Word Centers</td>\n",
       "      <td>Most of my kindergarten students come from low...</td>\n",
       "      <td>I currently have a differentiated sight word c...</td>\n",
       "      <td>NaN</td>\n",
       "      <td>NaN</td>\n",
       "      <td>My students need 6 Ipod Nano's to create and d...</td>\n",
       "      <td>26</td>\n",
       "      <td>1</td>\n",
       "    </tr>\n",
       "    <tr>\n",
       "      <th>1</th>\n",
       "      <td>p039565</td>\n",
       "      <td>df72a3ba8089423fa8a94be88060f6ed</td>\n",
       "      <td>Mrs.</td>\n",
       "      <td>GA</td>\n",
       "      <td>2017-04-26 15:57:28</td>\n",
       "      <td>Grades 3-5</td>\n",
       "      <td>Music &amp; The Arts, Health &amp; Sports</td>\n",
       "      <td>Performing Arts, Team Sports</td>\n",
       "      <td>Keep Calm and Dance On</td>\n",
       "      <td>Our elementary school is a culturally rich sch...</td>\n",
       "      <td>We strive to provide our diverse population of...</td>\n",
       "      <td>NaN</td>\n",
       "      <td>NaN</td>\n",
       "      <td>My students need matching shirts to wear for d...</td>\n",
       "      <td>1</td>\n",
       "      <td>0</td>\n",
       "    </tr>\n",
       "    <tr>\n",
       "      <th>2</th>\n",
       "      <td>p233823</td>\n",
       "      <td>a9b876a9252e08a55e3d894150f75ba3</td>\n",
       "      <td>Ms.</td>\n",
       "      <td>UT</td>\n",
       "      <td>2017-01-01 22:57:44</td>\n",
       "      <td>Grades 3-5</td>\n",
       "      <td>Math &amp; Science, Literacy &amp; Language</td>\n",
       "      <td>Applied Sciences, Literature &amp; Writing</td>\n",
       "      <td>Lets 3Doodle to Learn</td>\n",
       "      <td>Hello;\\r\\nMy name is Mrs. Brotherton. I teach ...</td>\n",
       "      <td>We are looking to add some 3Doodler to our cla...</td>\n",
       "      <td>NaN</td>\n",
       "      <td>NaN</td>\n",
       "      <td>My students need the 3doodler. We are an SEM s...</td>\n",
       "      <td>5</td>\n",
       "      <td>1</td>\n",
       "    </tr>\n",
       "    <tr>\n",
       "      <th>3</th>\n",
       "      <td>p185307</td>\n",
       "      <td>525fdbb6ec7f538a48beebaa0a51b24f</td>\n",
       "      <td>Mr.</td>\n",
       "      <td>NC</td>\n",
       "      <td>2016-08-12 15:42:11</td>\n",
       "      <td>Grades 3-5</td>\n",
       "      <td>Health &amp; Sports</td>\n",
       "      <td>Health &amp; Wellness</td>\n",
       "      <td>\\\"Kid Inspired\\\" Equipment to Increase Activit...</td>\n",
       "      <td>My students are the greatest students but are ...</td>\n",
       "      <td>The student's project which is totally \\\"kid-i...</td>\n",
       "      <td>NaN</td>\n",
       "      <td>NaN</td>\n",
       "      <td>My students need balls and other activity equi...</td>\n",
       "      <td>16</td>\n",
       "      <td>0</td>\n",
       "    </tr>\n",
       "    <tr>\n",
       "      <th>4</th>\n",
       "      <td>p013780</td>\n",
       "      <td>a63b5547a7239eae4c1872670848e61a</td>\n",
       "      <td>Mr.</td>\n",
       "      <td>CA</td>\n",
       "      <td>2016-08-06 09:09:11</td>\n",
       "      <td>Grades 6-8</td>\n",
       "      <td>Health &amp; Sports</td>\n",
       "      <td>Health &amp; Wellness</td>\n",
       "      <td>We need clean water for our culinary arts class!</td>\n",
       "      <td>My students are athletes and students who are ...</td>\n",
       "      <td>For some reason in our kitchen the water comes...</td>\n",
       "      <td>NaN</td>\n",
       "      <td>NaN</td>\n",
       "      <td>My students need a water filtration system for...</td>\n",
       "      <td>42</td>\n",
       "      <td>1</td>\n",
       "    </tr>\n",
       "  </tbody>\n",
       "</table>\n",
       "</div>"
      ],
      "text/plain": [
       "        id                        teacher_id teacher_prefix school_state  \\\n",
       "0  p036502  484aaf11257089a66cfedc9461c6bd0a            Ms.           NV   \n",
       "1  p039565  df72a3ba8089423fa8a94be88060f6ed           Mrs.           GA   \n",
       "2  p233823  a9b876a9252e08a55e3d894150f75ba3            Ms.           UT   \n",
       "3  p185307  525fdbb6ec7f538a48beebaa0a51b24f            Mr.           NC   \n",
       "4  p013780  a63b5547a7239eae4c1872670848e61a            Mr.           CA   \n",
       "\n",
       "  project_submitted_datetime project_grade_category  \\\n",
       "0        2016-11-18 14:45:59          Grades PreK-2   \n",
       "1        2017-04-26 15:57:28             Grades 3-5   \n",
       "2        2017-01-01 22:57:44             Grades 3-5   \n",
       "3        2016-08-12 15:42:11             Grades 3-5   \n",
       "4        2016-08-06 09:09:11             Grades 6-8   \n",
       "\n",
       "            project_subject_categories  \\\n",
       "0                  Literacy & Language   \n",
       "1    Music & The Arts, Health & Sports   \n",
       "2  Math & Science, Literacy & Language   \n",
       "3                      Health & Sports   \n",
       "4                      Health & Sports   \n",
       "\n",
       "            project_subject_subcategories  \\\n",
       "0                                Literacy   \n",
       "1            Performing Arts, Team Sports   \n",
       "2  Applied Sciences, Literature & Writing   \n",
       "3                       Health & Wellness   \n",
       "4                       Health & Wellness   \n",
       "\n",
       "                                       project_title  \\\n",
       "0                           Super Sight Word Centers   \n",
       "1                             Keep Calm and Dance On   \n",
       "2                              Lets 3Doodle to Learn   \n",
       "3  \\\"Kid Inspired\\\" Equipment to Increase Activit...   \n",
       "4   We need clean water for our culinary arts class!   \n",
       "\n",
       "                                     project_essay_1  \\\n",
       "0  Most of my kindergarten students come from low...   \n",
       "1  Our elementary school is a culturally rich sch...   \n",
       "2  Hello;\\r\\nMy name is Mrs. Brotherton. I teach ...   \n",
       "3  My students are the greatest students but are ...   \n",
       "4  My students are athletes and students who are ...   \n",
       "\n",
       "                                     project_essay_2 project_essay_3  \\\n",
       "0  I currently have a differentiated sight word c...             NaN   \n",
       "1  We strive to provide our diverse population of...             NaN   \n",
       "2  We are looking to add some 3Doodler to our cla...             NaN   \n",
       "3  The student's project which is totally \\\"kid-i...             NaN   \n",
       "4  For some reason in our kitchen the water comes...             NaN   \n",
       "\n",
       "  project_essay_4                           project_resource_summary  \\\n",
       "0             NaN  My students need 6 Ipod Nano's to create and d...   \n",
       "1             NaN  My students need matching shirts to wear for d...   \n",
       "2             NaN  My students need the 3doodler. We are an SEM s...   \n",
       "3             NaN  My students need balls and other activity equi...   \n",
       "4             NaN  My students need a water filtration system for...   \n",
       "\n",
       "   teacher_number_of_previously_posted_projects  project_is_approved  \n",
       "0                                            26                    1  \n",
       "1                                             1                    0  \n",
       "2                                             5                    1  \n",
       "3                                            16                    0  \n",
       "4                                            42                    1  "
      ]
     },
     "execution_count": 4,
     "metadata": {},
     "output_type": "execute_result"
    }
   ],
   "source": [
    "# Load applications\n",
    "applications = pd.read_csv('application_data.csv')\n",
    "\n",
    "print('Application dataset')\n",
    "print(applications.shape)\n",
    "applications.head()\n"
   ]
  },
  {
   "cell_type": "code",
   "execution_count": 5,
   "metadata": {},
   "outputs": [
    {
     "name": "stdout",
     "output_type": "stream",
     "text": [
      "Resources dataset\n",
      "(1541272, 4)\n"
     ]
    },
    {
     "data": {
      "text/html": [
       "<div>\n",
       "<style scoped>\n",
       "    .dataframe tbody tr th:only-of-type {\n",
       "        vertical-align: middle;\n",
       "    }\n",
       "\n",
       "    .dataframe tbody tr th {\n",
       "        vertical-align: top;\n",
       "    }\n",
       "\n",
       "    .dataframe thead th {\n",
       "        text-align: right;\n",
       "    }\n",
       "</style>\n",
       "<table border=\"1\" class=\"dataframe\">\n",
       "  <thead>\n",
       "    <tr style=\"text-align: right;\">\n",
       "      <th></th>\n",
       "      <th>id</th>\n",
       "      <th>description</th>\n",
       "      <th>quantity</th>\n",
       "      <th>price</th>\n",
       "    </tr>\n",
       "  </thead>\n",
       "  <tbody>\n",
       "    <tr>\n",
       "      <th>0</th>\n",
       "      <td>p233245</td>\n",
       "      <td>LC652 - Lakeshore Double-Space Mobile Drying Rack</td>\n",
       "      <td>1</td>\n",
       "      <td>149.00</td>\n",
       "    </tr>\n",
       "    <tr>\n",
       "      <th>1</th>\n",
       "      <td>p069063</td>\n",
       "      <td>Bouncy Bands for Desks (Blue support pipes)</td>\n",
       "      <td>3</td>\n",
       "      <td>14.95</td>\n",
       "    </tr>\n",
       "    <tr>\n",
       "      <th>2</th>\n",
       "      <td>p069063</td>\n",
       "      <td>Cory Stories: A Kid's Book About Living With Adhd</td>\n",
       "      <td>1</td>\n",
       "      <td>8.45</td>\n",
       "    </tr>\n",
       "    <tr>\n",
       "      <th>3</th>\n",
       "      <td>p069063</td>\n",
       "      <td>Dixon Ticonderoga Wood-Cased #2 HB Pencils, Bo...</td>\n",
       "      <td>2</td>\n",
       "      <td>13.59</td>\n",
       "    </tr>\n",
       "    <tr>\n",
       "      <th>4</th>\n",
       "      <td>p069063</td>\n",
       "      <td>EDUCATIONAL INSIGHTS FLUORESCENT LIGHT FILTERS...</td>\n",
       "      <td>3</td>\n",
       "      <td>24.95</td>\n",
       "    </tr>\n",
       "  </tbody>\n",
       "</table>\n",
       "</div>"
      ],
      "text/plain": [
       "        id                                        description  quantity  \\\n",
       "0  p233245  LC652 - Lakeshore Double-Space Mobile Drying Rack         1   \n",
       "1  p069063        Bouncy Bands for Desks (Blue support pipes)         3   \n",
       "2  p069063  Cory Stories: A Kid's Book About Living With Adhd         1   \n",
       "3  p069063  Dixon Ticonderoga Wood-Cased #2 HB Pencils, Bo...         2   \n",
       "4  p069063  EDUCATIONAL INSIGHTS FLUORESCENT LIGHT FILTERS...         3   \n",
       "\n",
       "    price  \n",
       "0  149.00  \n",
       "1   14.95  \n",
       "2    8.45  \n",
       "3   13.59  \n",
       "4   24.95  "
      ]
     },
     "execution_count": 5,
     "metadata": {},
     "output_type": "execute_result"
    }
   ],
   "source": [
    "# Load resources\n",
    "resources = pd.read_csv('resource_data.csv')\n",
    "\n",
    "print('Resources dataset')\n",
    "print(resources.shape)\n",
    "resources.head()\n"
   ]
  },
  {
   "cell_type": "code",
   "execution_count": 6,
   "metadata": {},
   "outputs": [
    {
     "name": "stdout",
     "output_type": "stream",
     "text": [
      "Shape before: (182080, 16)\n",
      "Shape after: (182080, 18)\n"
     ]
    }
   ],
   "source": [
    "# Create two new features to represent essays: one about the class environment, the other about the project\n",
    "\n",
    "print('Shape before: {}'.format(applications.shape))\n",
    "\n",
    "# Fill new environment column\n",
    "project_essay_env = []\n",
    "\n",
    "for i, row in applications.iterrows():\n",
    "    \n",
    "    if pd.isna(row[\"project_essay_3\"]) and pd.isna(row[\"project_essay_4\"]):\n",
    "        project_essay_env.append(row['project_essay_1'])\n",
    "        \n",
    "    else:\n",
    "        project_essay_env.append(str(row[\"project_essay_1\"]) + \" \" + str(row[\"project_essay_2\"]))\n",
    "\n",
    "assert len(project_essay_env) == applications.shape[0], 'New column length does not match'\n",
    "applications['project_essay_env'] = project_essay_env\n",
    "\n",
    "# Fill new project column\n",
    "project_essay_proj = []\n",
    "\n",
    "for i, row in applications.iterrows():\n",
    "    \n",
    "    if pd.isna(row[\"project_essay_3\"]) and pd.isna(row[\"project_essay_4\"]):\n",
    "        project_essay_proj.append(row['project_essay_2'])\n",
    "        \n",
    "    else:\n",
    "        project_essay_proj.append(str(row[\"project_essay_3\"]) + \" \" + str(row[\"project_essay_4\"]))\n",
    "\n",
    "assert len(project_essay_proj) == applications.shape[0], 'New column length does not match'\n",
    "applications['project_essay_proj'] = project_essay_proj\n",
    "\n",
    "print('Shape after: {}'.format(applications.shape))"
   ]
  },
  {
   "cell_type": "code",
   "execution_count": 7,
   "metadata": {},
   "outputs": [
    {
     "name": "stdout",
     "output_type": "stream",
     "text": [
      "Shape: (182076, 14)\n",
      "\n",
      "id                                              0\n",
      "teacher_id                                      0\n",
      "teacher_prefix                                  0\n",
      "school_state                                    0\n",
      "project_submitted_datetime                      0\n",
      "project_grade_category                          0\n",
      "project_subject_categories                      0\n",
      "project_subject_subcategories                   0\n",
      "project_title                                   0\n",
      "project_resource_summary                        0\n",
      "teacher_number_of_previously_posted_projects    0\n",
      "project_is_approved                             0\n",
      "project_essay_env                               0\n",
      "project_essay_proj                              0\n",
      "dtype: int64\n"
     ]
    }
   ],
   "source": [
    "# Drop redundant essay features\n",
    "applications.drop(columns=['project_essay_1', 'project_essay_2', 'project_essay_3', 'project_essay_4'], inplace=True)\n",
    "\n",
    "# Drop rows with missing values\n",
    "applications.dropna(axis=0, inplace=True)\n",
    "\n",
    "# Check if there is still any missing value\n",
    "print('Shape: {}\\n'.format(applications.shape))\n",
    "print(applications.isnull().sum())"
   ]
  },
  {
   "cell_type": "markdown",
   "metadata": {},
   "source": [
    "**Q 3:** Merge the resources and application datasets on the *id* feature. You can aggregate the total cost of requested resources for every project and merge it into applications dataset. "
   ]
  },
  {
   "cell_type": "markdown",
   "metadata": {},
   "source": [
    "Hint: Use *groupby* and *agg* functions of dataframe to create aggregates. Use *merge* function of *Pandas* to merge two dataframes."
   ]
  },
  {
   "cell_type": "code",
   "execution_count": 8,
   "metadata": {},
   "outputs": [
    {
     "name": "stdout",
     "output_type": "stream",
     "text": [
      "Resources shape: (260115, 2)\n",
      "Merged shape: (182076, 15)\n",
      "\n"
     ]
    },
    {
     "data": {
      "text/plain": [
       "id                                               object\n",
       "teacher_id                                       object\n",
       "teacher_prefix                                   object\n",
       "school_state                                     object\n",
       "project_submitted_datetime                       object\n",
       "project_grade_category                           object\n",
       "project_subject_categories                       object\n",
       "project_subject_subcategories                    object\n",
       "project_title                                    object\n",
       "project_resource_summary                         object\n",
       "teacher_number_of_previously_posted_projects      int64\n",
       "project_is_approved                               int64\n",
       "project_essay_env                                object\n",
       "project_essay_proj                               object\n",
       "total_budget                                    float64\n",
       "dtype: object"
      ]
     },
     "execution_count": 8,
     "metadata": {},
     "output_type": "execute_result"
    }
   ],
   "source": [
    "# Create useful feature out of resources: total requested budget\n",
    "resources['total_budget'] = resources['quantity'] * resources['price']\n",
    "\n",
    "# Drop non-informative features\n",
    "resources.drop(columns=['quantity','price', 'description'], inplace=True)\n",
    "\n",
    "# Aggregate total budget by id\n",
    "resources_agg = resources.groupby('id', as_index=False).agg({\"total_budget\": \"sum\"})\n",
    "print('Resources shape: {}'.format(resources_agg.shape))\n",
    "\n",
    "# Merge two datasets\n",
    "applications_full = pd.merge(applications, resources_agg, how='inner', on='id')\n",
    "\n",
    "# Check data type of new datasets\n",
    "print('Merged shape: {}\\n'.format(applications_full.shape))\n",
    "applications_full.dtypes"
   ]
  },
  {
   "cell_type": "markdown",
   "metadata": {},
   "source": [
    "**Q 4:**  Separate your merged dataset into features and target variables and visualize the distribution of the target. Why is area under the ROC curve (AUC) a suitable classification metric? Why can we not use accuracy?"
   ]
  },
  {
   "cell_type": "code",
   "execution_count": 9,
   "metadata": {},
   "outputs": [
    {
     "name": "stdout",
     "output_type": "stream",
     "text": [
      "Target: (182076,)\n",
      "Features: (182076, 13)\n"
     ]
    },
    {
     "data": {
      "text/plain": [
       "<matplotlib.axes._subplots.AxesSubplot at 0x7fe90903e9e8>"
      ]
     },
     "execution_count": 9,
     "metadata": {},
     "output_type": "execute_result"
    },
    {
     "data": {
      "image/png": "[encoded data removed]",
      "text/plain": [
       "<Figure size 432x288 with 1 Axes>"
      ]
     },
     "metadata": {
      "needs_background": "light"
     },
     "output_type": "display_data"
    }
   ],
   "source": [
    "# Split target and feature\n",
    "target   = applications_full['project_is_approved']\n",
    "features = applications_full.drop(columns=['project_is_approved','id'])\n",
    "\n",
    "print('Target: {}'.format(target.shape))\n",
    "print('Features: {}'.format(features.shape))\n",
    "\n",
    "# Plot histogram of target\n",
    "target.hist()"
   ]
  },
  {
   "cell_type": "raw",
   "metadata": {},
   "source": [
    "Area under ROC curve could be a good metric due to being insensitive to skewness of target values."
   ]
  },
  {
   "cell_type": "markdown",
   "metadata": {},
   "source": [
    "## **Part 2**: Encoding Categorical / DateTime Features"
   ]
  },
  {
   "cell_type": "markdown",
   "metadata": {},
   "source": [
    "**Q 1:** What would be a possible issue with one-hot encoding of teacher_id column? Should we keep this feature? There might be another, more useful teacher-specific feature we can use. Which one?"
   ]
  },
  {
   "cell_type": "raw",
   "metadata": {},
   "source": [
    "One-hot encoding teacher ids would create a lot of useless binary features.\n",
    "However, one useful teacher-specific information is contained in the 'teacher_number_of_previously_posted_projects' feature.\n",
    "Hence, one might drop the 'teacher_id' feature."
   ]
  },
  {
   "cell_type": "code",
   "execution_count": 10,
   "metadata": {},
   "outputs": [
    {
     "data": {
      "text/plain": [
       "(182076, 12)"
      ]
     },
     "execution_count": 10,
     "metadata": {},
     "output_type": "execute_result"
    }
   ],
   "source": [
    "features.drop(columns = ['teacher_id'], inplace = True)\n",
    "features.shape"
   ]
  },
  {
   "cell_type": "markdown",
   "metadata": {},
   "source": [
    "**Q 2:** Encode these categorical features using one-hot-encoding: ['teacher_prefix', 'school_state', 'project_grade_category']"
   ]
  },
  {
   "cell_type": "code",
   "execution_count": 11,
   "metadata": {},
   "outputs": [
    {
     "data": {
      "text/plain": [
       "(182076, 66)"
      ]
     },
     "execution_count": 11,
     "metadata": {},
     "output_type": "execute_result"
    }
   ],
   "source": [
    "cols_to_transform = ['teacher_prefix', 'school_state', 'project_grade_category']\n",
    "\n",
    "features = pd.get_dummies(data = features, columns = cols_to_transform, drop_first=True)\n",
    "features.shape"
   ]
  },
  {
   "cell_type": "markdown",
   "metadata": {},
   "source": [
    "**Q 3:** What could be the issue with simply one-hot-encoding of *project_subject_category* and *project_subject_subcategory* features? Come up with a sensible approach and implement it."
   ]
  },
  {
   "cell_type": "code",
   "execution_count": 12,
   "metadata": {},
   "outputs": [
    {
     "name": "stdout",
     "output_type": "stream",
     "text": [
      "Number of categories: 9\n"
     ]
    },
    {
     "data": {
      "text/plain": [
       "Counter({'Literacy & Language': 86984,\n",
       "         'Music & The Arts': 17054,\n",
       "         'Health & Sports': 23712,\n",
       "         'Math & Science': 69246,\n",
       "         'Applied Learning': 20303,\n",
       "         'Special Needs': 22881,\n",
       "         'History & Civics': 9726,\n",
       "         'Warmth': 2327,\n",
       "         'Care & Hunger': 2327})"
      ]
     },
     "execution_count": 12,
     "metadata": {},
     "output_type": "execute_result"
    }
   ],
   "source": [
    "# Let's start with the subject categories\n",
    "\n",
    "# Extract only the categories column\n",
    "features_categories = features[['project_subject_categories']].copy()\n",
    "features_categories['project_subject_categories_list'] = features_categories['project_subject_categories'].str.split(', ')\n",
    "features_categories.drop(columns=['project_subject_categories'], inplace=True)\n",
    "\n",
    "# Explode the column\n",
    "features_categories = features_categories.explode('project_subject_categories_list')\n",
    "print('Number of categories: {}'.format(len(set(features_categories['project_subject_categories_list'].values))))\n",
    "Counter(features_categories['project_subject_categories_list'].values)"
   ]
  },
  {
   "cell_type": "code",
   "execution_count": 13,
   "metadata": {},
   "outputs": [
    {
     "data": {
      "text/plain": [
       "(182076, 9)"
      ]
     },
     "execution_count": 13,
     "metadata": {},
     "output_type": "execute_result"
    }
   ],
   "source": [
    "# One-hot encode the applications now and group them by index values\n",
    "features_categories = pd.get_dummies(features_categories, columns=['project_subject_categories_list'])\n",
    "features_categories = features_categories.groupby(features_categories.index).sum()\n",
    "features_categories.shape"
   ]
  },
  {
   "cell_type": "code",
   "execution_count": 14,
   "metadata": {},
   "outputs": [
    {
     "name": "stdout",
     "output_type": "stream",
     "text": [
      "Number of sub-categories: 30\n"
     ]
    },
    {
     "data": {
      "text/plain": [
       "Counter({'Literacy': 56065,\n",
       "         'Performing Arts': 3223,\n",
       "         'Team Sports': 3643,\n",
       "         'Applied Sciences': 17966,\n",
       "         'Literature & Writing': 36971,\n",
       "         'Health & Wellness': 17099,\n",
       "         'Character Education': 3519,\n",
       "         'Early Development': 7149,\n",
       "         'Mathematics': 46882,\n",
       "         'Special Needs': 22881,\n",
       "         'ESL': 7162,\n",
       "         'Health & Life Science': 7175,\n",
       "         'College & Career Prep': 4291,\n",
       "         'Environmental Science': 9436,\n",
       "         'Other': 3948,\n",
       "         'Social Sciences': 3149,\n",
       "         'Music': 5172,\n",
       "         'Visual Arts': 10399,\n",
       "         'History & Geography': 5258,\n",
       "         'Parent Involvement': 1103,\n",
       "         'Extracurricular': 1332,\n",
       "         'Gym & Fitness': 7592,\n",
       "         'Warmth': 2327,\n",
       "         'Care & Hunger': 2327,\n",
       "         'Foreign Languages': 1496,\n",
       "         'Nutrition Education': 2236,\n",
       "         'Community Service': 712,\n",
       "         'Financial Literacy': 956,\n",
       "         'Civics & Government': 1294,\n",
       "         'Economics': 431})"
      ]
     },
     "execution_count": 14,
     "metadata": {},
     "output_type": "execute_result"
    }
   ],
   "source": [
    "# Now repeat the process for subject subcategories\n",
    "\n",
    "# Extract only the categories column\n",
    "features_subcategories = features[['project_subject_subcategories']].copy()\n",
    "features_subcategories['project_subject_subcategories_list'] = features_subcategories['project_subject_subcategories'].str.split(', ')\n",
    "features_subcategories.drop(columns=['project_subject_subcategories'], inplace=True)\n",
    "\n",
    "# Explode the column\n",
    "features_subcategories = features_subcategories.explode('project_subject_subcategories_list')\n",
    "print('Number of sub-categories: {}'.format(len(set(features_subcategories['project_subject_subcategories_list'].values))))\n",
    "Counter(features_subcategories['project_subject_subcategories_list'].values)\n"
   ]
  },
  {
   "cell_type": "code",
   "execution_count": 15,
   "metadata": {},
   "outputs": [
    {
     "data": {
      "text/plain": [
       "(182076, 30)"
      ]
     },
     "execution_count": 15,
     "metadata": {},
     "output_type": "execute_result"
    }
   ],
   "source": [
    "# One-hot encode the applications now and group them by index values\n",
    "features_subcategories = pd.get_dummies(features_subcategories, columns=['project_subject_subcategories_list'])\n",
    "features_subcategories = features_subcategories.groupby(features_subcategories.index).sum()\n",
    "features_subcategories.shape"
   ]
  },
  {
   "cell_type": "code",
   "execution_count": 16,
   "metadata": {},
   "outputs": [
    {
     "name": "stdout",
     "output_type": "stream",
     "text": [
      "(182076, 105)\n"
     ]
    },
    {
     "data": {
      "text/html": [
       "<div>\n",
       "<style scoped>\n",
       "    .dataframe tbody tr th:only-of-type {\n",
       "        vertical-align: middle;\n",
       "    }\n",
       "\n",
       "    .dataframe tbody tr th {\n",
       "        vertical-align: top;\n",
       "    }\n",
       "\n",
       "    .dataframe thead th {\n",
       "        text-align: right;\n",
       "    }\n",
       "</style>\n",
       "<table border=\"1\" class=\"dataframe\">\n",
       "  <thead>\n",
       "    <tr style=\"text-align: right;\">\n",
       "      <th></th>\n",
       "      <th>project_submitted_datetime</th>\n",
       "      <th>project_subject_categories</th>\n",
       "      <th>project_subject_subcategories</th>\n",
       "      <th>project_title</th>\n",
       "      <th>project_resource_summary</th>\n",
       "      <th>teacher_number_of_previously_posted_projects</th>\n",
       "      <th>project_essay_env</th>\n",
       "      <th>project_essay_proj</th>\n",
       "      <th>total_budget</th>\n",
       "      <th>teacher_prefix_Mr.</th>\n",
       "      <th>...</th>\n",
       "      <th>project_subject_subcategories_list_Music</th>\n",
       "      <th>project_subject_subcategories_list_Nutrition Education</th>\n",
       "      <th>project_subject_subcategories_list_Other</th>\n",
       "      <th>project_subject_subcategories_list_Parent Involvement</th>\n",
       "      <th>project_subject_subcategories_list_Performing Arts</th>\n",
       "      <th>project_subject_subcategories_list_Social Sciences</th>\n",
       "      <th>project_subject_subcategories_list_Special Needs</th>\n",
       "      <th>project_subject_subcategories_list_Team Sports</th>\n",
       "      <th>project_subject_subcategories_list_Visual Arts</th>\n",
       "      <th>project_subject_subcategories_list_Warmth</th>\n",
       "    </tr>\n",
       "  </thead>\n",
       "  <tbody>\n",
       "    <tr>\n",
       "      <th>0</th>\n",
       "      <td>2016-11-18 14:45:59</td>\n",
       "      <td>Literacy &amp; Language</td>\n",
       "      <td>Literacy</td>\n",
       "      <td>Super Sight Word Centers</td>\n",
       "      <td>My students need 6 Ipod Nano's to create and d...</td>\n",
       "      <td>26</td>\n",
       "      <td>Most of my kindergarten students come from low...</td>\n",
       "      <td>I currently have a differentiated sight word c...</td>\n",
       "      <td>899.94</td>\n",
       "      <td>0</td>\n",
       "      <td>...</td>\n",
       "      <td>0</td>\n",
       "      <td>0</td>\n",
       "      <td>0</td>\n",
       "      <td>0</td>\n",
       "      <td>0</td>\n",
       "      <td>0</td>\n",
       "      <td>0</td>\n",
       "      <td>0</td>\n",
       "      <td>0</td>\n",
       "      <td>0</td>\n",
       "    </tr>\n",
       "    <tr>\n",
       "      <th>1</th>\n",
       "      <td>2017-04-26 15:57:28</td>\n",
       "      <td>Music &amp; The Arts, Health &amp; Sports</td>\n",
       "      <td>Performing Arts, Team Sports</td>\n",
       "      <td>Keep Calm and Dance On</td>\n",
       "      <td>My students need matching shirts to wear for d...</td>\n",
       "      <td>1</td>\n",
       "      <td>Our elementary school is a culturally rich sch...</td>\n",
       "      <td>We strive to provide our diverse population of...</td>\n",
       "      <td>400.00</td>\n",
       "      <td>0</td>\n",
       "      <td>...</td>\n",
       "      <td>0</td>\n",
       "      <td>0</td>\n",
       "      <td>0</td>\n",
       "      <td>0</td>\n",
       "      <td>1</td>\n",
       "      <td>0</td>\n",
       "      <td>0</td>\n",
       "      <td>1</td>\n",
       "      <td>0</td>\n",
       "      <td>0</td>\n",
       "    </tr>\n",
       "    <tr>\n",
       "      <th>2</th>\n",
       "      <td>2017-01-01 22:57:44</td>\n",
       "      <td>Math &amp; Science, Literacy &amp; Language</td>\n",
       "      <td>Applied Sciences, Literature &amp; Writing</td>\n",
       "      <td>Lets 3Doodle to Learn</td>\n",
       "      <td>My students need the 3doodler. We are an SEM s...</td>\n",
       "      <td>5</td>\n",
       "      <td>Hello;\\r\\nMy name is Mrs. Brotherton. I teach ...</td>\n",
       "      <td>We are looking to add some 3Doodler to our cla...</td>\n",
       "      <td>469.99</td>\n",
       "      <td>0</td>\n",
       "      <td>...</td>\n",
       "      <td>0</td>\n",
       "      <td>0</td>\n",
       "      <td>0</td>\n",
       "      <td>0</td>\n",
       "      <td>0</td>\n",
       "      <td>0</td>\n",
       "      <td>0</td>\n",
       "      <td>0</td>\n",
       "      <td>0</td>\n",
       "      <td>0</td>\n",
       "    </tr>\n",
       "    <tr>\n",
       "      <th>3</th>\n",
       "      <td>2016-08-12 15:42:11</td>\n",
       "      <td>Health &amp; Sports</td>\n",
       "      <td>Health &amp; Wellness</td>\n",
       "      <td>\\\"Kid Inspired\\\" Equipment to Increase Activit...</td>\n",
       "      <td>My students need balls and other activity equi...</td>\n",
       "      <td>16</td>\n",
       "      <td>My students are the greatest students but are ...</td>\n",
       "      <td>The student's project which is totally \\\"kid-i...</td>\n",
       "      <td>684.47</td>\n",
       "      <td>1</td>\n",
       "      <td>...</td>\n",
       "      <td>0</td>\n",
       "      <td>0</td>\n",
       "      <td>0</td>\n",
       "      <td>0</td>\n",
       "      <td>0</td>\n",
       "      <td>0</td>\n",
       "      <td>0</td>\n",
       "      <td>0</td>\n",
       "      <td>0</td>\n",
       "      <td>0</td>\n",
       "    </tr>\n",
       "    <tr>\n",
       "      <th>4</th>\n",
       "      <td>2016-08-06 09:09:11</td>\n",
       "      <td>Health &amp; Sports</td>\n",
       "      <td>Health &amp; Wellness</td>\n",
       "      <td>We need clean water for our culinary arts class!</td>\n",
       "      <td>My students need a water filtration system for...</td>\n",
       "      <td>42</td>\n",
       "      <td>My students are athletes and students who are ...</td>\n",
       "      <td>For some reason in our kitchen the water comes...</td>\n",
       "      <td>711.00</td>\n",
       "      <td>1</td>\n",
       "      <td>...</td>\n",
       "      <td>0</td>\n",
       "      <td>0</td>\n",
       "      <td>0</td>\n",
       "      <td>0</td>\n",
       "      <td>0</td>\n",
       "      <td>0</td>\n",
       "      <td>0</td>\n",
       "      <td>0</td>\n",
       "      <td>0</td>\n",
       "      <td>0</td>\n",
       "    </tr>\n",
       "  </tbody>\n",
       "</table>\n",
       "<p>5 rows × 105 columns</p>\n",
       "</div>"
      ],
      "text/plain": [
       "  project_submitted_datetime           project_subject_categories  \\\n",
       "0        2016-11-18 14:45:59                  Literacy & Language   \n",
       "1        2017-04-26 15:57:28    Music & The Arts, Health & Sports   \n",
       "2        2017-01-01 22:57:44  Math & Science, Literacy & Language   \n",
       "3        2016-08-12 15:42:11                      Health & Sports   \n",
       "4        2016-08-06 09:09:11                      Health & Sports   \n",
       "\n",
       "            project_subject_subcategories  \\\n",
       "0                                Literacy   \n",
       "1            Performing Arts, Team Sports   \n",
       "2  Applied Sciences, Literature & Writing   \n",
       "3                       Health & Wellness   \n",
       "4                       Health & Wellness   \n",
       "\n",
       "                                       project_title  \\\n",
       "0                           Super Sight Word Centers   \n",
       "1                             Keep Calm and Dance On   \n",
       "2                              Lets 3Doodle to Learn   \n",
       "3  \\\"Kid Inspired\\\" Equipment to Increase Activit...   \n",
       "4   We need clean water for our culinary arts class!   \n",
       "\n",
       "                            project_resource_summary  \\\n",
       "0  My students need 6 Ipod Nano's to create and d...   \n",
       "1  My students need matching shirts to wear for d...   \n",
       "2  My students need the 3doodler. We are an SEM s...   \n",
       "3  My students need balls and other activity equi...   \n",
       "4  My students need a water filtration system for...   \n",
       "\n",
       "   teacher_number_of_previously_posted_projects  \\\n",
       "0                                            26   \n",
       "1                                             1   \n",
       "2                                             5   \n",
       "3                                            16   \n",
       "4                                            42   \n",
       "\n",
       "                                   project_essay_env  \\\n",
       "0  Most of my kindergarten students come from low...   \n",
       "1  Our elementary school is a culturally rich sch...   \n",
       "2  Hello;\\r\\nMy name is Mrs. Brotherton. I teach ...   \n",
       "3  My students are the greatest students but are ...   \n",
       "4  My students are athletes and students who are ...   \n",
       "\n",
       "                                  project_essay_proj  total_budget  \\\n",
       "0  I currently have a differentiated sight word c...        899.94   \n",
       "1  We strive to provide our diverse population of...        400.00   \n",
       "2  We are looking to add some 3Doodler to our cla...        469.99   \n",
       "3  The student's project which is totally \\\"kid-i...        684.47   \n",
       "4  For some reason in our kitchen the water comes...        711.00   \n",
       "\n",
       "   teacher_prefix_Mr.  ...  project_subject_subcategories_list_Music  \\\n",
       "0                   0  ...                                         0   \n",
       "1                   0  ...                                         0   \n",
       "2                   0  ...                                         0   \n",
       "3                   1  ...                                         0   \n",
       "4                   1  ...                                         0   \n",
       "\n",
       "   project_subject_subcategories_list_Nutrition Education  \\\n",
       "0                                                  0        \n",
       "1                                                  0        \n",
       "2                                                  0        \n",
       "3                                                  0        \n",
       "4                                                  0        \n",
       "\n",
       "   project_subject_subcategories_list_Other  \\\n",
       "0                                         0   \n",
       "1                                         0   \n",
       "2                                         0   \n",
       "3                                         0   \n",
       "4                                         0   \n",
       "\n",
       "   project_subject_subcategories_list_Parent Involvement  \\\n",
       "0                                                  0       \n",
       "1                                                  0       \n",
       "2                                                  0       \n",
       "3                                                  0       \n",
       "4                                                  0       \n",
       "\n",
       "   project_subject_subcategories_list_Performing Arts  \\\n",
       "0                                                  0    \n",
       "1                                                  1    \n",
       "2                                                  0    \n",
       "3                                                  0    \n",
       "4                                                  0    \n",
       "\n",
       "   project_subject_subcategories_list_Social Sciences  \\\n",
       "0                                                  0    \n",
       "1                                                  0    \n",
       "2                                                  0    \n",
       "3                                                  0    \n",
       "4                                                  0    \n",
       "\n",
       "   project_subject_subcategories_list_Special Needs  \\\n",
       "0                                                 0   \n",
       "1                                                 0   \n",
       "2                                                 0   \n",
       "3                                                 0   \n",
       "4                                                 0   \n",
       "\n",
       "   project_subject_subcategories_list_Team Sports  \\\n",
       "0                                               0   \n",
       "1                                               1   \n",
       "2                                               0   \n",
       "3                                               0   \n",
       "4                                               0   \n",
       "\n",
       "   project_subject_subcategories_list_Visual Arts  \\\n",
       "0                                               0   \n",
       "1                                               0   \n",
       "2                                               0   \n",
       "3                                               0   \n",
       "4                                               0   \n",
       "\n",
       "   project_subject_subcategories_list_Warmth  \n",
       "0                                          0  \n",
       "1                                          0  \n",
       "2                                          0  \n",
       "3                                          0  \n",
       "4                                          0  \n",
       "\n",
       "[5 rows x 105 columns]"
      ]
     },
     "execution_count": 16,
     "metadata": {},
     "output_type": "execute_result"
    }
   ],
   "source": [
    "# Merge one-hot encoded categories and sub-categories with the dataframe\n",
    "\n",
    "# Categories\n",
    "features = features.merge(features_categories, how='left', left_index=True, right_index=True)\n",
    "\n",
    "# Sub-categories\n",
    "features = features.merge(features_subcategories, how='left', left_index=True, right_index=True)\n",
    "\n",
    "print(features.shape)\n",
    "features.head()"
   ]
  },
  {
   "cell_type": "code",
   "execution_count": 17,
   "metadata": {},
   "outputs": [
    {
     "data": {
      "text/plain": [
       "(182076, 103)"
      ]
     },
     "execution_count": 17,
     "metadata": {},
     "output_type": "execute_result"
    }
   ],
   "source": [
    "# Drop the original columns\n",
    "features.drop(columns=['project_subject_categories','project_subject_subcategories'], inplace=True)\n",
    "\n",
    "features.shape"
   ]
  },
  {
   "cell_type": "markdown",
   "metadata": {},
   "source": [
    "**Q 4:** What could be a sensible strategy to encode *project_submitted_datetime* feature? Why simply separating it into different numeric features for year/month/day/hour can be problematic?"
   ]
  },
  {
   "cell_type": "markdown",
   "metadata": {},
   "source": [
    "Hint: Consider circular temporal features such as month, day of month, day of week, hour and dicuss about their appropriate encoding. Here are useful resources: \n",
    "\n",
    "- https://datascience.stackexchange.com/questions/5990/what-is-a-good-way-to-transform-cyclic-ordinal-attributes\n",
    "- https://stats.stackexchange.com/questions/126230/optimal-construction-of-day-feature-in-neural-networks"
   ]
  },
  {
   "cell_type": "raw",
   "metadata": {},
   "source": [
    "Label encoding of circular features into ordinal numbers is not correct since it imposes \n",
    "an incorrect ordering. The correct method to encode circular features is to assume they\n",
    "are located in a circle uniformly and consider their corresponding Sine and Cosine values as\n",
    "their reprsentative features."
   ]
  },
  {
   "cell_type": "code",
   "execution_count": 18,
   "metadata": {},
   "outputs": [],
   "source": [
    "# Extract temporal features\n",
    "dateCol = 'project_submitted_datetime'\n",
    "\n",
    "def getTimeFeatures(df):\n",
    "    \n",
    "    df['year'] = df[dateCol].dt.year\n",
    "    df['month'] = df[dateCol].dt.month\n",
    "    df['day'] = df[dateCol].dt.day\n",
    "    df['dow'] = df[dateCol].dt.dayofweek\n",
    "    df['hour'] = df[dateCol].dt.hour\n",
    "    \n",
    "    return df\n",
    "\n",
    "features[dateCol] = pd.to_datetime(features[dateCol])\n",
    "features = getTimeFeatures(features)\n"
   ]
  },
  {
   "cell_type": "code",
   "execution_count": 19,
   "metadata": {},
   "outputs": [
    {
     "data": {
      "text/plain": [
       "<matplotlib.axes._subplots.AxesSubplot at 0x7fe90115bc88>"
      ]
     },
     "execution_count": 19,
     "metadata": {},
     "output_type": "execute_result"
    },
    {
     "data": {
      "image/png": "[encoded data removed]",
      "text/plain": [
       "<Figure size 1152x720 with 1 Axes>"
      ]
     },
     "metadata": {
      "needs_background": "light"
     },
     "output_type": "display_data"
    }
   ],
   "source": [
    "# plot the day of the week (dow) against the project submitted datetime\n",
    "features.sort_values(by = ['project_submitted_datetime', 'dow']).iloc[:20000].plot(x = 'project_submitted_datetime', y = 'dow', figsize = FIGSIZE)\n"
   ]
  },
  {
   "cell_type": "code",
   "execution_count": 20,
   "metadata": {},
   "outputs": [],
   "source": [
    "\n",
    "# Convert circular temporal features into sin and cos features\n",
    "features['month_sin'] = np.sin((features.month-1)*(2.*np.pi/12))\n",
    "features['month_cos'] = np.cos((features.month-1)*(2.*np.pi/12))\n",
    "features['day_sin'] = np.sin((features.day-1)*(2.*np.pi/31))\n",
    "features['day_cos'] = np.cos((features.day-1)*(2.*np.pi/31))\n",
    "features['dow_sin'] = np.sin((features.dow-1)*(2.*np.pi/7))\n",
    "features['dow_cos'] = np.cos((features.dow-1)*(2.*np.pi/7))\n",
    "features['hour_sin'] = np.sin((features.hour)*(2.*np.pi/24))\n",
    "features['hour_cos'] = np.cos((features.hour)*(2.*np.pi/24))\n"
   ]
  },
  {
   "cell_type": "code",
   "execution_count": 21,
   "metadata": {},
   "outputs": [
    {
     "data": {
      "text/plain": [
       "<matplotlib.axes._subplots.AxesSubplot at 0x7fe8e3e1f0b8>"
      ]
     },
     "execution_count": 21,
     "metadata": {},
     "output_type": "execute_result"
    },
    {
     "data": {
      "image/png": "[encoded data removed]",
      "text/plain": [
       "<Figure size 1152x720 with 1 Axes>"
      ]
     },
     "metadata": {
      "needs_background": "light"
     },
     "output_type": "display_data"
    }
   ],
   "source": [
    "# plot the sine of the day of the week (dow) against the project submitted datetime\n",
    "features.sort_values(by = ['project_submitted_datetime', 'dow_sin']).iloc[:20000].plot(x = 'project_submitted_datetime', y = 'dow_sin', figsize = FIGSIZE)\n"
   ]
  },
  {
   "cell_type": "raw",
   "metadata": {},
   "source": [
    "Note how the sine and cosine transformations have changed the time feature from a piece-wise defined function \n",
    "to a continuous one, which is more appropriately representing circular temporal data."
   ]
  },
  {
   "cell_type": "code",
   "execution_count": 22,
   "metadata": {},
   "outputs": [],
   "source": [
    "# Drop text-based features and features no longer needed\n",
    "features.drop(columns=['project_submitted_datetime', 'month','day','dow','hour'], inplace=True)"
   ]
  },
  {
   "cell_type": "markdown",
   "metadata": {},
   "source": [
    "## **Part 3**: Encoding Textual Features"
   ]
  },
  {
   "cell_type": "markdown",
   "metadata": {},
   "source": [
    "**Q 1:** Concatenate all textual fields into a single field and preprocess them using the steps we used in sentiment analysis demo (lower case, stop word removal, remove terms with digits and stemming). "
   ]
  },
  {
   "cell_type": "code",
   "execution_count": 23,
   "metadata": {},
   "outputs": [
    {
     "name": "stdout",
     "output_type": "stream",
     "text": [
      "CPU times: user 8min 9s, sys: 10.1 s, total: 8min 19s\n",
      "Wall time: 8min 24s\n"
     ]
    }
   ],
   "source": [
    "%%time\n",
    "\n",
    "# Concat all textual features\n",
    "features['app_text'] = features['project_title'] + ' ' + features['project_essay_env'] + ' ' + features['project_essay_proj'] + ' ' + features['project_resource_summary']\n",
    "features.drop(columns = ['project_title',\n",
    "                         'project_resource_summary',\n",
    "                         'project_essay_env',\n",
    "                         'project_essay_proj'], inplace = True)\n",
    "\n",
    "# function containing all preprocessing steps\n",
    "def preprocess(raw_review):\n",
    "\n",
    "    # Remove HTML tags\n",
    "    review_text = BeautifulSoup(raw_review).get_text() \n",
    "    \n",
    "    # Remove non-letters        \n",
    "    letters_only = re.sub('[^a-zA-Z]', ' ', review_text) \n",
    "    \n",
    "    # Convert to lower case, split into individual words\n",
    "    words = letters_only.lower().split()                             \n",
    "    \n",
    "    # In Python, searching a set is much faster than searching\n",
    "    # a list, so convert the stop words to a set\n",
    "    stops = set(stopwords.words('english'))                  \n",
    "     \n",
    "    # Remove stop words\n",
    "    meaningful_words = [w for w in words if not w in stops]\n",
    "    \n",
    "    # Stem words\n",
    "    stemmer = SnowballStemmer('english')\n",
    "    stem_words = [stemmer.stem(w) for w in meaningful_words]\n",
    "    \n",
    "    # Join the words back into one string separated by space, \n",
    "    # and return the result.\n",
    "    out = \" \".join( stem_words )\n",
    "    return out\n",
    "\n",
    "# Preprocess application text\n",
    "features['app_text_preprocessed'] = features['app_text'].apply(preprocess)"
   ]
  },
  {
   "cell_type": "markdown",
   "metadata": {},
   "source": [
    "**Q 2:** Convert your preprocessed text into tfidf vectors and consider only the top 500 features, ordered by term frequency across the entire corpus"
   ]
  },
  {
   "cell_type": "markdown",
   "metadata": {},
   "source": [
    "Hint: Use the *TfidfVectorizer* class from *sklearn.feature_extraction.text* package and convert its sparse matrix output to a dataframe."
   ]
  },
  {
   "cell_type": "code",
   "execution_count": 24,
   "metadata": {},
   "outputs": [
    {
     "name": "stdout",
     "output_type": "stream",
     "text": [
      "(182076, 500)\n",
      "CPU times: user 16.9 s, sys: 536 ms, total: 17.4 s\n",
      "Wall time: 17.4 s\n"
     ]
    }
   ],
   "source": [
    "%%time\n",
    "\n",
    "# Vectorize application text using tfidf\n",
    "vectorizer = TfidfVectorizer(max_features=500)\n",
    "textual_features = vectorizer.fit_transform(features['app_text_preprocessed'])\n",
    "df_textual_features = pd.DataFrame(textual_features.toarray())\n",
    "\n",
    "print(df_textual_features.shape)"
   ]
  },
  {
   "cell_type": "markdown",
   "metadata": {},
   "source": [
    "**Q 3:** Project your 500 dimensional tfidf vectors into 50 dimensions using PCA. "
   ]
  },
  {
   "cell_type": "markdown",
   "metadata": {},
   "source": [
    "Hint: Use *PCA* class from *sklearn.decomposition* package."
   ]
  },
  {
   "cell_type": "code",
   "execution_count": 25,
   "metadata": {},
   "outputs": [
    {
     "name": "stdout",
     "output_type": "stream",
     "text": [
      "(182076, 50)\n"
     ]
    }
   ],
   "source": [
    "# Project textual features into 50 dimensions\n",
    "\n",
    "pca = PCA(n_components = 50, random_state = SEED)\n",
    "textual_features_pca = pd.DataFrame(data = pca.fit_transform(df_textual_features))\n",
    "\n",
    "print(textual_features_pca.shape)"
   ]
  },
  {
   "cell_type": "markdown",
   "metadata": {},
   "source": [
    "**Q 4:** You can think of generating some new features out of text which are beneficial for the target application in mind. In particular, try to generate the following features:\n",
    "\n",
    "* Number of words in application text\n",
    "* Number of spelling errors in application text\n"
   ]
  },
  {
   "cell_type": "markdown",
   "metadata": {},
   "source": [
    "Hint: To count number of spelling mistakes we can use *enchant* library. Use the following function to do so:\n",
    "\n",
    "    import enchant\n",
    "\n",
    "    eng_dic = enchant.Dict('en_US')\n",
    "    def num_spelling_errors(str):\n",
    "        i = 0\n",
    "        for word in str.split():\n",
    "            if eng_dic.check(word) == False:\n",
    "                i = i + 1\n",
    "        return i\n"
   ]
  },
  {
   "cell_type": "code",
   "execution_count": 26,
   "metadata": {},
   "outputs": [
    {
     "name": "stdout",
     "output_type": "stream",
     "text": [
      "CPU times: user 8min 20s, sys: 5min 44s, total: 14min 4s\n",
      "Wall time: 14min 12s\n"
     ]
    },
    {
     "data": {
      "text/html": [
       "<div>\n",
       "<style scoped>\n",
       "    .dataframe tbody tr th:only-of-type {\n",
       "        vertical-align: middle;\n",
       "    }\n",
       "\n",
       "    .dataframe tbody tr th {\n",
       "        vertical-align: top;\n",
       "    }\n",
       "\n",
       "    .dataframe thead th {\n",
       "        text-align: right;\n",
       "    }\n",
       "</style>\n",
       "<table border=\"1\" class=\"dataframe\">\n",
       "  <thead>\n",
       "    <tr style=\"text-align: right;\">\n",
       "      <th></th>\n",
       "      <th>teacher_number_of_previously_posted_projects</th>\n",
       "      <th>total_budget</th>\n",
       "      <th>teacher_prefix_Mr.</th>\n",
       "      <th>teacher_prefix_Mrs.</th>\n",
       "      <th>teacher_prefix_Ms.</th>\n",
       "      <th>teacher_prefix_Teacher</th>\n",
       "      <th>school_state_AL</th>\n",
       "      <th>school_state_AR</th>\n",
       "      <th>school_state_AZ</th>\n",
       "      <th>school_state_CA</th>\n",
       "      <th>...</th>\n",
       "      <th>day_sin</th>\n",
       "      <th>day_cos</th>\n",
       "      <th>dow_sin</th>\n",
       "      <th>dow_cos</th>\n",
       "      <th>hour_sin</th>\n",
       "      <th>hour_cos</th>\n",
       "      <th>app_text</th>\n",
       "      <th>app_text_preprocessed</th>\n",
       "      <th>num_words</th>\n",
       "      <th>num_errors</th>\n",
       "    </tr>\n",
       "  </thead>\n",
       "  <tbody>\n",
       "    <tr>\n",
       "      <th>0</th>\n",
       "      <td>26</td>\n",
       "      <td>899.94</td>\n",
       "      <td>0</td>\n",
       "      <td>0</td>\n",
       "      <td>1</td>\n",
       "      <td>0</td>\n",
       "      <td>0</td>\n",
       "      <td>0</td>\n",
       "      <td>0</td>\n",
       "      <td>0</td>\n",
       "      <td>...</td>\n",
       "      <td>-0.299363</td>\n",
       "      <td>-0.954139</td>\n",
       "      <td>0.433884</td>\n",
       "      <td>-0.900969</td>\n",
       "      <td>-0.500000</td>\n",
       "      <td>-0.866025</td>\n",
       "      <td>Super Sight Word Centers Most of my kindergart...</td>\n",
       "      <td>super sight word center kindergarten student c...</td>\n",
       "      <td>337</td>\n",
       "      <td>15</td>\n",
       "    </tr>\n",
       "    <tr>\n",
       "      <th>1</th>\n",
       "      <td>1</td>\n",
       "      <td>400.00</td>\n",
       "      <td>0</td>\n",
       "      <td>1</td>\n",
       "      <td>0</td>\n",
       "      <td>0</td>\n",
       "      <td>0</td>\n",
       "      <td>0</td>\n",
       "      <td>0</td>\n",
       "      <td>0</td>\n",
       "      <td>...</td>\n",
       "      <td>-0.937752</td>\n",
       "      <td>0.347305</td>\n",
       "      <td>0.781831</td>\n",
       "      <td>0.623490</td>\n",
       "      <td>-0.707107</td>\n",
       "      <td>-0.707107</td>\n",
       "      <td>Keep Calm and Dance On Our elementary school i...</td>\n",
       "      <td>keep calm danc elementari school cultur rich s...</td>\n",
       "      <td>207</td>\n",
       "      <td>19</td>\n",
       "    </tr>\n",
       "    <tr>\n",
       "      <th>2</th>\n",
       "      <td>5</td>\n",
       "      <td>469.99</td>\n",
       "      <td>0</td>\n",
       "      <td>0</td>\n",
       "      <td>1</td>\n",
       "      <td>0</td>\n",
       "      <td>0</td>\n",
       "      <td>0</td>\n",
       "      <td>0</td>\n",
       "      <td>0</td>\n",
       "      <td>...</td>\n",
       "      <td>0.000000</td>\n",
       "      <td>1.000000</td>\n",
       "      <td>-0.974928</td>\n",
       "      <td>-0.222521</td>\n",
       "      <td>-0.500000</td>\n",
       "      <td>0.866025</td>\n",
       "      <td>Lets 3Doodle to Learn Hello;\\r\\nMy name is Mrs...</td>\n",
       "      <td>let doodl learn hello r nmi name mrs brotherto...</td>\n",
       "      <td>271</td>\n",
       "      <td>13</td>\n",
       "    </tr>\n",
       "    <tr>\n",
       "      <th>3</th>\n",
       "      <td>16</td>\n",
       "      <td>684.47</td>\n",
       "      <td>1</td>\n",
       "      <td>0</td>\n",
       "      <td>0</td>\n",
       "      <td>0</td>\n",
       "      <td>0</td>\n",
       "      <td>0</td>\n",
       "      <td>0</td>\n",
       "      <td>0</td>\n",
       "      <td>...</td>\n",
       "      <td>0.790776</td>\n",
       "      <td>-0.612106</td>\n",
       "      <td>0.433884</td>\n",
       "      <td>-0.900969</td>\n",
       "      <td>-0.707107</td>\n",
       "      <td>-0.707107</td>\n",
       "      <td>\\\"Kid Inspired\\\" Equipment to Increase Activit...</td>\n",
       "      <td>kid inspir equip increas activ gain better hea...</td>\n",
       "      <td>432</td>\n",
       "      <td>27</td>\n",
       "    </tr>\n",
       "    <tr>\n",
       "      <th>4</th>\n",
       "      <td>42</td>\n",
       "      <td>711.00</td>\n",
       "      <td>1</td>\n",
       "      <td>0</td>\n",
       "      <td>0</td>\n",
       "      <td>0</td>\n",
       "      <td>0</td>\n",
       "      <td>0</td>\n",
       "      <td>0</td>\n",
       "      <td>1</td>\n",
       "      <td>...</td>\n",
       "      <td>0.848644</td>\n",
       "      <td>0.528964</td>\n",
       "      <td>-0.433884</td>\n",
       "      <td>-0.900969</td>\n",
       "      <td>0.707107</td>\n",
       "      <td>-0.707107</td>\n",
       "      <td>We need clean water for our culinary arts clas...</td>\n",
       "      <td>need clean water culinari art class student at...</td>\n",
       "      <td>206</td>\n",
       "      <td>7</td>\n",
       "    </tr>\n",
       "  </tbody>\n",
       "</table>\n",
       "<p>5 rows × 111 columns</p>\n",
       "</div>"
      ],
      "text/plain": [
       "   teacher_number_of_previously_posted_projects  total_budget  \\\n",
       "0                                            26        899.94   \n",
       "1                                             1        400.00   \n",
       "2                                             5        469.99   \n",
       "3                                            16        684.47   \n",
       "4                                            42        711.00   \n",
       "\n",
       "   teacher_prefix_Mr.  teacher_prefix_Mrs.  teacher_prefix_Ms.  \\\n",
       "0                   0                    0                   1   \n",
       "1                   0                    1                   0   \n",
       "2                   0                    0                   1   \n",
       "3                   1                    0                   0   \n",
       "4                   1                    0                   0   \n",
       "\n",
       "   teacher_prefix_Teacher  school_state_AL  school_state_AR  school_state_AZ  \\\n",
       "0                       0                0                0                0   \n",
       "1                       0                0                0                0   \n",
       "2                       0                0                0                0   \n",
       "3                       0                0                0                0   \n",
       "4                       0                0                0                0   \n",
       "\n",
       "   school_state_CA  ...   day_sin   day_cos   dow_sin   dow_cos  hour_sin  \\\n",
       "0                0  ... -0.299363 -0.954139  0.433884 -0.900969 -0.500000   \n",
       "1                0  ... -0.937752  0.347305  0.781831  0.623490 -0.707107   \n",
       "2                0  ...  0.000000  1.000000 -0.974928 -0.222521 -0.500000   \n",
       "3                0  ...  0.790776 -0.612106  0.433884 -0.900969 -0.707107   \n",
       "4                1  ...  0.848644  0.528964 -0.433884 -0.900969  0.707107   \n",
       "\n",
       "   hour_cos                                           app_text  \\\n",
       "0 -0.866025  Super Sight Word Centers Most of my kindergart...   \n",
       "1 -0.707107  Keep Calm and Dance On Our elementary school i...   \n",
       "2  0.866025  Lets 3Doodle to Learn Hello;\\r\\nMy name is Mrs...   \n",
       "3 -0.707107  \\\"Kid Inspired\\\" Equipment to Increase Activit...   \n",
       "4 -0.707107  We need clean water for our culinary arts clas...   \n",
       "\n",
       "                               app_text_preprocessed  num_words  num_errors  \n",
       "0  super sight word center kindergarten student c...        337          15  \n",
       "1  keep calm danc elementari school cultur rich s...        207          19  \n",
       "2  let doodl learn hello r nmi name mrs brotherto...        271          13  \n",
       "3  kid inspir equip increas activ gain better hea...        432          27  \n",
       "4  need clean water culinari art class student at...        206           7  \n",
       "\n",
       "[5 rows x 111 columns]"
      ]
     },
     "execution_count": 26,
     "metadata": {},
     "output_type": "execute_result"
    }
   ],
   "source": [
    "%%time\n",
    "\n",
    "# Generate 'number of words' feature\n",
    "features['num_words'] = features['app_text'].str.split().str.len()\n",
    "\n",
    "# Generate 'number of spelling mistakes' feature\n",
    "eng_dic = enchant.Dict('en_US')\n",
    "\n",
    "def num_spelling_errors(text):\n",
    "    \n",
    "    i = 0\n",
    "    for word in str(text).split():\n",
    "        \n",
    "        if eng_dic.check(word) == False:\n",
    "            i += 1\n",
    "    \n",
    "    return i\n",
    "\n",
    "features['num_errors'] = features['app_text'].apply(num_spelling_errors)\n",
    "features.head()"
   ]
  },
  {
   "cell_type": "markdown",
   "metadata": {},
   "source": [
    "## **Part 4**: Prepare Features and Baseline"
   ]
  },
  {
   "cell_type": "markdown",
   "metadata": {},
   "source": [
    "**Q 1:** Organize your features into three dataframes of *textual_features* (projected to 50 PCA dimensions), *non_textual_features* and *all_features*. Check the data types of all features: are they all numeric? "
   ]
  },
  {
   "cell_type": "code",
   "execution_count": 27,
   "metadata": {},
   "outputs": [
    {
     "data": {
      "text/plain": [
       "teacher_number_of_previously_posted_projects                  int64\n",
       "total_budget                                                float64\n",
       "teacher_prefix_Mr.                                            uint8\n",
       "teacher_prefix_Mrs.                                           uint8\n",
       "teacher_prefix_Ms.                                            uint8\n",
       "teacher_prefix_Teacher                                        uint8\n",
       "school_state_AL                                               uint8\n",
       "school_state_AR                                               uint8\n",
       "school_state_AZ                                               uint8\n",
       "school_state_CA                                               uint8\n",
       "school_state_CO                                               uint8\n",
       "school_state_CT                                               uint8\n",
       "school_state_DC                                               uint8\n",
       "school_state_DE                                               uint8\n",
       "school_state_FL                                               uint8\n",
       "school_state_GA                                               uint8\n",
       "school_state_HI                                               uint8\n",
       "school_state_IA                                               uint8\n",
       "school_state_ID                                               uint8\n",
       "school_state_IL                                               uint8\n",
       "school_state_IN                                               uint8\n",
       "school_state_KS                                               uint8\n",
       "school_state_KY                                               uint8\n",
       "school_state_LA                                               uint8\n",
       "school_state_MA                                               uint8\n",
       "school_state_MD                                               uint8\n",
       "school_state_ME                                               uint8\n",
       "school_state_MI                                               uint8\n",
       "school_state_MN                                               uint8\n",
       "school_state_MO                                               uint8\n",
       "school_state_MS                                               uint8\n",
       "school_state_MT                                               uint8\n",
       "school_state_NC                                               uint8\n",
       "school_state_ND                                               uint8\n",
       "school_state_NE                                               uint8\n",
       "school_state_NH                                               uint8\n",
       "school_state_NJ                                               uint8\n",
       "school_state_NM                                               uint8\n",
       "school_state_NV                                               uint8\n",
       "school_state_NY                                               uint8\n",
       "school_state_OH                                               uint8\n",
       "school_state_OK                                               uint8\n",
       "school_state_OR                                               uint8\n",
       "school_state_PA                                               uint8\n",
       "school_state_RI                                               uint8\n",
       "school_state_SC                                               uint8\n",
       "school_state_SD                                               uint8\n",
       "school_state_TN                                               uint8\n",
       "school_state_TX                                               uint8\n",
       "school_state_UT                                               uint8\n",
       "school_state_VA                                               uint8\n",
       "school_state_VT                                               uint8\n",
       "school_state_WA                                               uint8\n",
       "school_state_WI                                               uint8\n",
       "school_state_WV                                               uint8\n",
       "school_state_WY                                               uint8\n",
       "project_grade_category_Grades 6-8                             uint8\n",
       "project_grade_category_Grades 9-12                            uint8\n",
       "project_grade_category_Grades PreK-2                          uint8\n",
       "project_subject_categories_list_Applied Learning              uint8\n",
       "project_subject_categories_list_Care & Hunger                 uint8\n",
       "project_subject_categories_list_Health & Sports               uint8\n",
       "project_subject_categories_list_History & Civics              uint8\n",
       "project_subject_categories_list_Literacy & Language           uint8\n",
       "project_subject_categories_list_Math & Science                uint8\n",
       "project_subject_categories_list_Music & The Arts              uint8\n",
       "project_subject_categories_list_Special Needs                 uint8\n",
       "project_subject_categories_list_Warmth                        uint8\n",
       "project_subject_subcategories_list_Applied Sciences           uint8\n",
       "project_subject_subcategories_list_Care & Hunger              uint8\n",
       "project_subject_subcategories_list_Character Education        uint8\n",
       "project_subject_subcategories_list_Civics & Government        uint8\n",
       "project_subject_subcategories_list_College & Career Prep      uint8\n",
       "project_subject_subcategories_list_Community Service          uint8\n",
       "project_subject_subcategories_list_ESL                        uint8\n",
       "project_subject_subcategories_list_Early Development          uint8\n",
       "project_subject_subcategories_list_Economics                  uint8\n",
       "project_subject_subcategories_list_Environmental Science      uint8\n",
       "project_subject_subcategories_list_Extracurricular            uint8\n",
       "project_subject_subcategories_list_Financial Literacy         uint8\n",
       "project_subject_subcategories_list_Foreign Languages          uint8\n",
       "project_subject_subcategories_list_Gym & Fitness              uint8\n",
       "project_subject_subcategories_list_Health & Life Science      uint8\n",
       "project_subject_subcategories_list_Health & Wellness          uint8\n",
       "project_subject_subcategories_list_History & Geography        uint8\n",
       "project_subject_subcategories_list_Literacy                   uint8\n",
       "project_subject_subcategories_list_Literature & Writing       uint8\n",
       "project_subject_subcategories_list_Mathematics                uint8\n",
       "project_subject_subcategories_list_Music                      uint8\n",
       "project_subject_subcategories_list_Nutrition Education        uint8\n",
       "project_subject_subcategories_list_Other                      uint8\n",
       "project_subject_subcategories_list_Parent Involvement         uint8\n",
       "project_subject_subcategories_list_Performing Arts            uint8\n",
       "project_subject_subcategories_list_Social Sciences            uint8\n",
       "project_subject_subcategories_list_Special Needs              uint8\n",
       "project_subject_subcategories_list_Team Sports                uint8\n",
       "project_subject_subcategories_list_Visual Arts                uint8\n",
       "project_subject_subcategories_list_Warmth                     uint8\n",
       "year                                                          int64\n",
       "month_sin                                                   float64\n",
       "month_cos                                                   float64\n",
       "day_sin                                                     float64\n",
       "day_cos                                                     float64\n",
       "dow_sin                                                     float64\n",
       "dow_cos                                                     float64\n",
       "hour_sin                                                    float64\n",
       "hour_cos                                                    float64\n",
       "num_words                                                     int64\n",
       "num_errors                                                    int64\n",
       "dim_0                                                       float64\n",
       "dim_1                                                       float64\n",
       "dim_2                                                       float64\n",
       "dim_3                                                       float64\n",
       "dim_4                                                       float64\n",
       "dim_5                                                       float64\n",
       "dim_6                                                       float64\n",
       "dim_7                                                       float64\n",
       "dim_8                                                       float64\n",
       "dim_9                                                       float64\n",
       "dim_10                                                      float64\n",
       "dim_11                                                      float64\n",
       "dim_12                                                      float64\n",
       "dim_13                                                      float64\n",
       "dim_14                                                      float64\n",
       "dim_15                                                      float64\n",
       "dim_16                                                      float64\n",
       "dim_17                                                      float64\n",
       "dim_18                                                      float64\n",
       "dim_19                                                      float64\n",
       "dim_20                                                      float64\n",
       "dim_21                                                      float64\n",
       "dim_22                                                      float64\n",
       "dim_23                                                      float64\n",
       "dim_24                                                      float64\n",
       "dim_25                                                      float64\n",
       "dim_26                                                      float64\n",
       "dim_27                                                      float64\n",
       "dim_28                                                      float64\n",
       "dim_29                                                      float64\n",
       "dim_30                                                      float64\n",
       "dim_31                                                      float64\n",
       "dim_32                                                      float64\n",
       "dim_33                                                      float64\n",
       "dim_34                                                      float64\n",
       "dim_35                                                      float64\n",
       "dim_36                                                      float64\n",
       "dim_37                                                      float64\n",
       "dim_38                                                      float64\n",
       "dim_39                                                      float64\n",
       "dim_40                                                      float64\n",
       "dim_41                                                      float64\n",
       "dim_42                                                      float64\n",
       "dim_43                                                      float64\n",
       "dim_44                                                      float64\n",
       "dim_45                                                      float64\n",
       "dim_46                                                      float64\n",
       "dim_47                                                      float64\n",
       "dim_48                                                      float64\n",
       "dim_49                                                      float64\n",
       "dtype: object"
      ]
     },
     "execution_count": 27,
     "metadata": {},
     "output_type": "execute_result"
    }
   ],
   "source": [
    "# Textual features\n",
    "textual_features_pca.columns = ['dim_' + str(col) for col in textual_features_pca.columns]\n",
    "textual_features = textual_features_pca.copy()\n",
    "\n",
    "# Only keep non-textual featues, i.e. drop 2 application text columns\n",
    "non_textual_features = features.drop(columns=['app_text', 'app_text_preprocessed'])\n",
    "\n",
    "# All features: are all types numeric? \n",
    "all_features = pd.concat([non_textual_features, textual_features], axis = 1)\n",
    "all_features.dtypes"
   ]
  },
  {
   "cell_type": "markdown",
   "metadata": {},
   "source": [
    "**Q 2:** Come up with a conceptual baseline to compare with your models. No coding required."
   ]
  },
  {
   "cell_type": "raw",
   "metadata": {},
   "source": [
    "An AUC score of 0.5 could be conisidered as a baseline, which corresponds to random guessing.\n",
    "It means that the probability that a randomly selected application from accepted set\n",
    "has a higher score than a randomly selected application from rejected set is 50 %."
   ]
  },
  {
   "cell_type": "markdown",
   "metadata": {},
   "source": [
    "## **Part 5**: Gradient Boosting Trees"
   ]
  },
  {
   "cell_type": "markdown",
   "metadata": {},
   "source": [
    "**Q 1:** Fit a gradient boosting tree model from the the *XGBoost* library to your data and tune the value of the *n_estimators* parameter, the number of trees to fit. Use nested cross-validation function with 3 splits each in the inner and outer folds. Assess the performance of your model when tuning the *n_estimators* parameter and using the following sets of features:\n",
    "\n",
    "1. Non-textual features\n",
    "2. Textual features\n",
    "3. All features"
   ]
  },
  {
   "cell_type": "markdown",
   "metadata": {},
   "source": [
    "Hint: Use the following function for nested cross-validation (Try to understand it before using it):\n",
    "\n",
    "    from sklearn.model_selection import StratifiedKFold, GridSearchCV, cross_val_score\n",
    "\n",
    "    def nested_cv(X, y, est_pipe, p_grid, p_score, n_splits_inner = 3, n_splits_outer = 3, n_cores = 1, seed = 0):\n",
    "\n",
    "        # cross-validation schema for inner and outer loops\n",
    "        inner_cv = StratifiedKFold(n_splits = n_splits_inner, shuffle = True, random_state = seed)\n",
    "        outer_cv = StratifiedKFold(n_splits = n_splits_outer, shuffle = True, random_state = seed)\n",
    "\n",
    "        # grid search to tune hyper parameters\n",
    "        est = GridSearchCV(estimator = est_pipe, param_grid = p_grid, cv = inner_cv, scoring = p_score, n_jobs = n_cores)\n",
    "\n",
    "        # nested CV with parameter optimization\n",
    "        nested_scores = cross_val_score(estimator = est, X = X, y = y, cv = outer_cv, scoring = p_score, n_jobs = n_cores)\n",
    "\n",
    "        print('Average score: %0.4f (+/- %0.4f)' % (nested_scores.mean(), nested_scores.std() * 1.96))\n",
    "        \n",
    "Moreover use the *XGBClassifier* class from *xgboost* package, which has a similar interface to other sklearn classifiers. *XGboost* library includes high perfromance implementations of gradient boosting trees. "
   ]
  },
  {
   "cell_type": "code",
   "execution_count": 28,
   "metadata": {},
   "outputs": [],
   "source": [
    "# Nested cross validation function\n",
    "\n",
    "def nested_cv(X, y, est_pipe, p_grid, p_score, n_splits_inner = 3, n_splits_outer = 3, n_cores = 1, seed = SEED):\n",
    "\n",
    "    # Cross-validation schema for inner and outer loops\n",
    "    inner_cv = StratifiedKFold(n_splits = n_splits_inner, shuffle = True, random_state = seed)\n",
    "    outer_cv = StratifiedKFold(n_splits = n_splits_outer, shuffle = True, random_state = seed)\n",
    "    \n",
    "    # Grid search to tune hyper parameters\n",
    "    est = GridSearchCV(estimator = est_pipe, param_grid = p_grid, cv = inner_cv, scoring = p_score, n_jobs = n_cores)\n",
    "\n",
    "    # Nested CV with parameter optimization\n",
    "    nested_scores = cross_val_score(estimator = est, X = X, y = y, cv = outer_cv, scoring = p_score, n_jobs = n_cores)\n",
    "    \n",
    "    print('Average score: %0.4f (+/- %0.4f)' % (nested_scores.mean(), nested_scores.std() * 1.96))\n",
    "\n",
    "# Define pipeline\n",
    "estimators = []\n",
    "estimators.append(('xgb_clf', XGBClassifier()))\n",
    "xgb_pipe = Pipeline(estimators)\n",
    "xgb_pipe.set_params(xgb_clf__n_jobs = -1)\n",
    "xgb_pipe.set_params(xgb_clf__random_state = SEED)\n",
    "\n",
    "# Setup possible values of parameters to optimize over\n",
    "p_grid = {\"xgb_clf__n_estimators\": [int(i) for i in np.linspace(10, 100, 10)]}"
   ]
  },
  {
   "cell_type": "code",
   "execution_count": 29,
   "metadata": {},
   "outputs": [
    {
     "name": "stdout",
     "output_type": "stream",
     "text": [
      "Average score: 0.6194 (+/- 0.0076)\n",
      "CPU times: user 130 ms, sys: 214 ms, total: 345 ms\n",
      "Wall time: 9min 8s\n"
     ]
    }
   ],
   "source": [
    "%%time\n",
    "\n",
    "# Non textual features\n",
    "nested_cv(X = non_textual_features, y = target, est_pipe = xgb_pipe, p_grid = p_grid, p_score = SCORE, n_cores = -1)"
   ]
  },
  {
   "cell_type": "code",
   "execution_count": 30,
   "metadata": {},
   "outputs": [
    {
     "name": "stdout",
     "output_type": "stream",
     "text": [
      "Average score: 0.6770 (+/- 0.0015)\n",
      "CPU times: user 226 ms, sys: 155 ms, total: 381 ms\n",
      "Wall time: 8min 43s\n"
     ]
    }
   ],
   "source": [
    "%%time\n",
    "\n",
    "# Textual features\n",
    "nested_cv(X = textual_features_pca, y = target, est_pipe = xgb_pipe, p_grid = p_grid, p_score = SCORE, n_cores = -1)"
   ]
  },
  {
   "cell_type": "code",
   "execution_count": 31,
   "metadata": {},
   "outputs": [
    {
     "name": "stdout",
     "output_type": "stream",
     "text": [
      "Average score: 0.6994 (+/- 0.0061)\n",
      "CPU times: user 147 ms, sys: 336 ms, total: 483 ms\n",
      "Wall time: 17min 41s\n"
     ]
    }
   ],
   "source": [
    "%%time\n",
    "\n",
    "# All features\n",
    "nested_cv(X = all_features, y = target, est_pipe = xgb_pipe, p_grid = p_grid, p_score = SCORE, n_cores = -1)"
   ]
  },
  {
   "cell_type": "markdown",
   "metadata": {},
   "source": [
    "**Q 2:** Print a list of the 10 most important features considering all features as pedictors. "
   ]
  },
  {
   "cell_type": "code",
   "execution_count": 32,
   "metadata": {},
   "outputs": [
    {
     "name": "stdout",
     "output_type": "stream",
     "text": [
      "dim_3                                              : 0.06005826\n",
      "dim_2                                              : 0.038208045\n",
      "teacher_number_of_previously_posted_projects       : 0.034389872\n",
      "num_words                                          : 0.03356065\n",
      "total_budget                                       : 0.032957397\n",
      "dim_8                                              : 0.031927776\n",
      "dim_15                                             : 0.031813942\n",
      "dim_13                                             : 0.031444546\n",
      "dim_7                                              : 0.029083738\n",
      "dim_32                                             : 0.027745215\n"
     ]
    }
   ],
   "source": [
    "# Extract feature importances\n",
    "\n",
    "xgb_clf = xgb_pipe.named_steps['xgb_clf']\n",
    "xgb_clf.fit(all_features, target)\n",
    "\n",
    "i = 0\n",
    "\n",
    "for index in reversed(np.argsort(xgb_clf.feature_importances_)):\n",
    "    \n",
    "    print(all_features.columns[index].ljust(50) , ':', xgb_clf.feature_importances_[index])\n",
    "    i = i + 1\n",
    "\n",
    "    if (i == 10):\n",
    "        break"
   ]
  },
  {
   "cell_type": "markdown",
   "metadata": {},
   "source": [
    "## **Bonus**: Further Reading"
   ]
  },
  {
   "cell_type": "markdown",
   "metadata": {},
   "source": [
    "- Further ideas for feature engineering: https://www.kaggle.com/shivamb/extensive-text-data-feature-engineering\n",
    "- Winning submission on Kaggle (don't worry if you don't understand everything): https://www.kaggle.com/shadowwarrior/1st-place-solution"
   ]
  },
  {
   "cell_type": "code",
   "execution_count": null,
   "metadata": {},
   "outputs": [],
   "source": []
  }
 ],
 "metadata": {
  "kernelspec": {
   "display_name": "Python 3",
   "language": "python",
   "name": "python3"
  },
  "language_info": {
   "codemirror_mode": {
    "name": "ipython",
    "version": 3
   },
   "file_extension": ".py",
   "mimetype": "text/x-python",
   "name": "python",
   "nbconvert_exporter": "python",
   "pygments_lexer": "ipython3",
   "version": "3.6.10"
  }
 },
 "nbformat": 4,
 "nbformat_minor": 4
}
